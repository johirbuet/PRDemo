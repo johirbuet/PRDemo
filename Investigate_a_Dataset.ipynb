{
 "cells": [
  {
   "cell_type": "markdown",
   "metadata": {},
   "source": [
    "> **Tip**: Welcome to the Investigate a Dataset project! You will find tips in quoted sections like this to help organize your approach to your investigation. Before submitting your project, it will be a good idea to go back through your report and remove these sections to make the presentation of your work as tidy as possible. First things first, you might want to double-click this Markdown cell and change the title so that it reflects your dataset and investigation.\n",
    "\n",
    "# Project: NO-show appointments (Xavier Horion)\n",
    "\n",
    "## Table of Contents\n",
    "<ul>\n",
    "<li><a href=\"#intro\">Introduction</a></li>\n",
    "<li><a href=\"#wrangling\">Data Wrangling</a></li>\n",
    "<li><a href=\"#eda\">Exploratory Data Analysis</a></li>\n",
    "<li><a href=\"#conclusions\">Conclusions</a></li>\n",
    "</ul>"
   ]
  },
  {
   "cell_type": "markdown",
   "metadata": {},
   "source": [
    "<a id='intro'></a>\n",
    "## Introduction\n",
    "\n",
    "> **Tip**: In this section of the report, provide a brief introduction to the dataset you've selected for analysis. At the end of this section, describe the questions that you plan on exploring over the course of the report. Try to build your report around the analysis of at least one dependent variable and three independent variables. If you're not sure what questions to ask, then make sure you familiarize yourself with the dataset, its variables and the dataset context for ideas of what to explore.\n",
    "\n",
    "> If you haven't yet selected and downloaded your data, make sure you do that first before coming back here. In order to work with the data in this workspace, you also need to upload it to the workspace. To do so, click on the jupyter icon in the upper left to be taken back to the workspace directory. There should be an 'Upload' button in the upper right that will let you add your data file(s) to the workspace. You can then click on the .ipynb file name to come back here."
   ]
  },
  {
   "cell_type": "code",
   "execution_count": 1,
   "metadata": {},
   "outputs": [
    {
     "name": "stdout",
     "output_type": "stream",
     "text": [
      "Using matplotlib backend: Qt5Agg\n"
     ]
    }
   ],
   "source": [
    "# Use this cell to set up import statements for all of the packages that you\n",
    "#   plan to use.\n",
    "import pandas as pd\n",
    "\n",
    "# Remember to include a 'magic word' so that your visualizations are plotted\n",
    "#   inline with the notebook. See this page for more:\n",
    "#   http://ipython.readthedocs.io/en/stable/interactive/magics.html\n",
    "import numpy as np\n",
    "import matplotlib.pyplot as plt\n",
    "import seaborn as sns\n",
    "import datetime as dt\n",
    "\n",
    "%matplotlib"
   ]
  },
  {
   "cell_type": "markdown",
   "metadata": {},
   "source": [
    "<a id='wrangling'></a>\n",
    "## Data Wrangling\n",
    "\n",
    "> **Tip**: In this section of the report, you will load in the data, check for cleanliness, and then trim and clean your dataset for analysis. Make sure that you document your steps carefully and justify your cleaning decisions.\n",
    "\n",
    "### General Properties"
   ]
  },
  {
   "cell_type": "code",
   "execution_count": 27,
   "metadata": {},
   "outputs": [
    {
     "name": "stdout",
     "output_type": "stream",
     "text": [
      "Size & shape of the data frame\n",
      "Size : 1547378  - Shape :  (110527, 14)\n",
      "with  110527  lines & with  14  columns\n",
      "                      \n",
      "Structure of the data frame\n",
      "PatientId         float64\n",
      "AppointmentID       int64\n",
      "Gender             object\n",
      "ScheduledDay       object\n",
      "AppointmentDay     object\n",
      "Age                 int64\n",
      "Neighbourhood      object\n",
      "Scholarship         int64\n",
      "Hipertension        int64\n",
      "Diabetes            int64\n",
      "Alcoholism          int64\n",
      "Handcap             int64\n",
      "SMS_received        int64\n",
      "No-show            object\n",
      "dtype: object\n",
      "                      \n",
      "Display the first 2nd element, the 10th and the last 2 elements\n",
      "      PatientId  AppointmentID Gender          ScheduledDay  \\\n",
      "0  2.987250e+13        5642903      F  2016-04-29T18:38:08Z   \n",
      "1  5.589978e+14        5642503      M  2016-04-29T16:08:27Z   \n",
      "\n",
      "         AppointmentDay  Age    Neighbourhood  Scholarship  Hipertension  \\\n",
      "0  2016-04-29T00:00:00Z   62  JARDIM DA PENHA            0             1   \n",
      "1  2016-04-29T00:00:00Z   56  JARDIM DA PENHA            0             0   \n",
      "\n",
      "   Diabetes  Alcoholism  Handcap  SMS_received No-show  \n",
      "0         0           0        0             0      No  \n",
      "1         0           0        0             0      No  \n",
      "                      \n",
      "Display the average age\n",
      "37.0888742117\n",
      "                      \n",
      "Any NaN data\n",
      "110527\n",
      "       Wouh - all lines contain at least one NaN value .....        \n"
     ]
    }
   ],
   "source": [
    "# Load your data and print out a few lines. Perform operations to inspect data\n",
    "#   types and look for instances of missing or possibly errant data.\n",
    "MainData = pd.read_csv(\"https://d17h27t6h515a5.cloudfront.net/topher/2017/October/59dd2e9a_noshowappointments-kagglev2-may-2016/noshowappointments-kagglev2-may-2016.csv\")\n",
    "\n",
    "#   Some display to understand size and volume of data\n",
    "print ('Size & shape of the data frame')\n",
    "print ('Size :', MainData.size, ' - Shape : ', MainData.shape)\n",
    "print ('with ', len(MainData), ' lines & with ', len(MainData.columns), ' columns')\n",
    "print ('                      ')\n",
    "\n",
    "print ('Structure of the data frame')\n",
    "print (MainData.dtypes)\n",
    "# print (MainData.info)\n",
    "print ('                      ')\n",
    "\n",
    "print ('Display the first 2nd element, the 10th and the last 2 elements')\n",
    "print (MainData.head(2))\n",
    "#print (MainData.iloc[9])\n",
    "#print (MainData.tail(2))\n",
    "print ('                      ')\n",
    "\n",
    "print ('Display the average age')\n",
    "print (MainData['Age'].mean())\n",
    "print ('                      ')\n",
    "\n",
    "print ('Any NaN data')\n",
    "print (len (MainData.dropna(how = 'any')))\n",
    "print ('       Wouh - all lines contain at least one NaN value .....        ')\n",
    "\n",
    "#print ('Display the information about numerical column')\n",
    "#print (MainData.describe())\n",
    "#print ('                      ')"
   ]
  },
  {
   "cell_type": "markdown",
   "metadata": {},
   "source": [
    "> **Tip**: You should _not_ perform too many operations in each cell. Create cells freely to explore your data. One option that you can take with this project is to do a lot of explorations in an initial notebook. These don't have to be organized, but make sure you use enough comments to understand the purpose of each code cell. Then, after you're done with your analysis, create a duplicate notebook where you will trim the excess and organize your steps so that you have a flowing, cohesive report.\n",
    "\n",
    "> **Tip**: Make sure that you keep your reader informed on the steps that you are taking in your investigation. Follow every code cell, or every set of related code cells, with a markdown cell to describe to the reader what was found in the preceding cell(s). Try to make it so that the reader can then understand what they will be seeing in the following cell(s).\n",
    "\n",
    "### Data Cleaning (Replace this with more specific notes!)"
   ]
  },
  {
   "cell_type": "code",
   "execution_count": 26,
   "metadata": {},
   "outputs": [],
   "source": [
    "# A function to convert the \"No-Show\" object into a bool\n",
    "def f_NoShow(row):\n",
    "    if row['No-show'] == \"Yes\":\n",
    "        val = True\n",
    "    else:\n",
    "        val = False\n",
    "    return val\n",
    "\n",
    "# A function to convert the \"Gender\" object into a bool\n",
    "def f_IsMan(row):\n",
    "    if row['Gender'] == \"M\":\n",
    "        val = True\n",
    "    else:\n",
    "        val = False\n",
    "    return val"
   ]
  },
  {
   "cell_type": "code",
   "execution_count": 34,
   "metadata": {},
   "outputs": [
    {
     "name": "stdout",
     "output_type": "stream",
     "text": [
      "Value we found on column No-Show :  {'Yes', 'No'}\n",
      "Type and values we found about column IsCancelled :  bool  - Values:  {False, True}\n",
      "Average of IsCancelled 0.201932559465\n",
      " \n",
      "Value we found on column Gender :  {'M', 'F'}\n",
      "Type of column Is_a_Man :  bool\n",
      "How many men ?           Gender\n",
      "Is_a_Man        \n",
      "False      71840\n",
      "True       38687\n"
     ]
    }
   ],
   "source": [
    "# Exploring the \"No-Show\" object & re-formating it into 'IsCancelled' new column\n",
    "print ('Value we found on column No-Show : ', set(MainData['No-show']) )\n",
    "\n",
    "# I've tried ines below without success => placed in comment and switch to a function\n",
    "# MainDataWithIsCancelled = MainData.assign(IsCancelled = MainData['AppointmentDay'].bool())\n",
    "\n",
    "# Creating a new column with bool format\n",
    "MainData['IsCancelled'] = MainData.apply(f_NoShow, axis=1)\n",
    "print ('Type and values we found about column IsCancelled : ', MainData.IsCancelled.dtypes, ' - Values: ',set(MainData['IsCancelled']))\n",
    "print ('Average of IsCancelled', MainData.IsCancelled.mean())\n",
    "print (' ')\n",
    "\n",
    "# Exploring the \"Gender\" object & re-formating it into 'Is_a_Man' new column\n",
    "print ('Value we found on column Gender : ', set(MainData['Gender']))\n",
    "\n",
    "# So I try with the function astype on gender => I've let this in comment...\n",
    "# ... and create a function\n",
    "#MainData['Gender'] = MainData['Gender'].astype('str')\n",
    "#print ('Average of Gender', MainData.Gender.mean())\n",
    "\n",
    "MainData['Is_a_Man'] = MainData.apply(f_IsMan, axis=1)\n",
    "print ('Type of column Is_a_Man : ', MainData.Is_a_Man.dtypes)\n",
    "print ('How many men ?', MainData.loc[:, ['Gender','Is_a_Man']].groupby(['Is_a_Man']).count())"
   ]
  },
  {
   "cell_type": "code",
   "execution_count": 14,
   "metadata": {},
   "outputs": [
    {
     "name": "stdout",
     "output_type": "stream",
     "text": [
      "count    110527.000000\n",
      "mean          0.022248\n",
      "std           0.161543\n",
      "min           0.000000\n",
      "25%           0.000000\n",
      "50%           0.000000\n",
      "75%           0.000000\n",
      "max           4.000000\n",
      "Name: Handcap, dtype: float64\n",
      "count    110527.000000\n",
      "mean          0.321758\n",
      "std           0.631381\n",
      "min           0.000000\n",
      "25%           0.000000\n",
      "50%           0.000000\n",
      "75%           0.000000\n",
      "max           5.000000\n",
      "Name: Complexity, dtype: float64\n"
     ]
    }
   ],
   "source": [
    "# After discussing the structure of the data and any problems that need to be\n",
    "#   cleaned, perform those cleaning steps in the second part of this section.\n",
    "\n",
    "# We will not investigate the impact if the appointement is on a MO/TU/..Sunday or has been taken on ...\n",
    "# We will investigate if influende about leadtime between ScheduledDay & AppointmentDay\n",
    "# Issue on the two lies below (notably about convetion string to date)\n",
    "# MainData['LeadTime']= MainData['AppointmentDay']-MainData['ScheduledDay']\n",
    "# MainDataWithLeadtime = MainData.assign(E = MainData['AppointmentDay'] - MainData['ScheduledDay'])                   ')\n",
    "\n",
    "# Creation of a column to synthesis all health situaiton per individual\n",
    "MainData['Complexity']= MainData['Handcap']+ MainData['Hipertension'] + MainData['Diabetes'] + MainData['Alcoholism']\n",
    "print (MainData.Handcap.describe())\n",
    "print (MainData.Complexity.describe())"
   ]
  },
  {
   "cell_type": "code",
   "execution_count": null,
   "metadata": {},
   "outputs": [],
   "source": [
    "\n"
   ]
  },
  {
   "cell_type": "code",
   "execution_count": 15,
   "metadata": {},
   "outputs": [
    {
     "name": "stdout",
     "output_type": "stream",
     "text": [
      "Value we found on column Gender :  {'M', 'F'}\n",
      " \n",
      "New type of column Gender after conversion:  object\n",
      "Value we found on column SMS_received :  {0, 1}\n",
      "New type of column SMS_received after conversion:  bool\n",
      "Average of SMS_received 0.321025631746\n",
      " \n",
      "Value we found on column No-Show :  {'Yes', 'No'}\n",
      "Type and values we found about column IsCancelled :  bool  - Values:  {False, True}\n",
      "Average of IsCancelled 0.201932559465\n",
      " \n"
     ]
    }
   ],
   "source": [
    "#Check that all values in column 'SMS_received' are int64 with only values 0 & 1\n",
    "print ('Value we found on column SMS_received : ', set(MainData['SMS_received']) )\n",
    "\n",
    "# This line doesn't work ...\n",
    "# MainData['IsSMS_received']= MainData['SMS_received'].bool\n",
    "\n",
    "# So I try with the function astype\n",
    "MainData['SMS_received'] = MainData['SMS_received'].astype('bool')\n",
    "print ('New type of column SMS_received after conversion: ', MainData.SMS_received.dtypes)\n",
    "print ('Average of SMS_received', MainData.SMS_received.mean())\n",
    "print (' ')\n"
   ]
  },
  {
   "cell_type": "code",
   "execution_count": 16,
   "metadata": {},
   "outputs": [
    {
     "name": "stdout",
     "output_type": "stream",
     "text": [
      "NEW structure of the data frame\n",
      "PatientId         float64\n",
      "AppointmentID       int64\n",
      "Gender             object\n",
      "ScheduledDay       object\n",
      "AppointmentDay     object\n",
      "Age                 int64\n",
      "SMS_received         bool\n",
      "Complexity          int64\n",
      "IsCancelled          bool\n",
      "dtype: object\n",
      " \n"
     ]
    }
   ],
   "source": [
    "#deletion of column we won't use on next steps\n",
    "# I've been said that neighboorhood has no impact => deletion of the column\n",
    "del MainData['Neighbourhood']\n",
    "del MainData['Scholarship']\n",
    "del MainData['Hipertension']\n",
    "del MainData['Diabetes']\n",
    "del MainData['Alcoholism']\n",
    "del MainData['Handcap']\n",
    "\n",
    "#delation of \"NO-show\" as replaced by 'IsCancelled'\n",
    "del MainData['No-show']\n",
    "print ('NEW structure of the data frame')\n",
    "print (MainData.dtypes)\n",
    "print (' ')"
   ]
  },
  {
   "cell_type": "markdown",
   "metadata": {},
   "source": [
    "<a id='eda'></a>\n",
    "## Exploratory Data Analysis\n",
    "\n",
    "> **Tip**: Now that you've trimmed and cleaned your data, you're ready to move on to exploration. Compute statistics and create visualizations with the goal of addressing the research questions that you posed in the Introduction section. It is recommended that you be systematic with your approach. Look at one variable at a time, and then follow it up by looking at relationships between variables.\n",
    "\n",
    "### Research Question 1 (Replace this header name!)"
   ]
  },
  {
   "cell_type": "code",
   "execution_count": 17,
   "metadata": {},
   "outputs": [
    {
     "name": "stdout",
     "output_type": "stream",
     "text": [
      "Display result of corr on MainData\n",
      "               PatientId  AppointmentID       Age  SMS_received  Complexity  \\\n",
      "PatientId       1.000000       0.004039 -0.004139     -0.009749   -0.002434   \n",
      "AppointmentID   0.004039       1.000000 -0.019126     -0.256618    0.029860   \n",
      "Age            -0.004139      -0.019126  1.000000      0.012643    0.483631   \n",
      "SMS_received   -0.009749      -0.256618  0.012643      1.000000   -0.023193   \n",
      "Complexity     -0.002434       0.029860  0.483631     -0.023193    1.000000   \n",
      "IsCancelled    -0.001461      -0.162602 -0.060319      0.126431   -0.030318   \n",
      "\n",
      "               IsCancelled  \n",
      "PatientId        -0.001461  \n",
      "AppointmentID    -0.162602  \n",
      "Age              -0.060319  \n",
      "SMS_received      0.126431  \n",
      "Complexity       -0.030318  \n",
      "IsCancelled       1.000000  \n",
      "{False, True}\n",
      "                                  \n"
     ]
    }
   ],
   "source": [
    "# Just before trying to answer to the both selected questions\n",
    "# Let's have a look with the basic Python function\n",
    "print ('Display result of corr on MainData')\n",
    "print (MainData.corr()) \n",
    "print ('                                  ')\n"
   ]
  },
  {
   "cell_type": "code",
   "execution_count": 21,
   "metadata": {},
   "outputs": [
    {
     "name": "stdout",
     "output_type": "stream",
     "text": [
      "Cancelation rate Man\n",
      "        IsCancelled\n",
      "Gender             \n",
      "F          0.203146\n",
      "M          0.199679\n"
     ]
    }
   ],
   "source": [
    "#Investigaiton on correlation about gender & Cancellation rate \n",
    "print ('Cancelation rate Man')\n",
    "\n",
    "# print (MainData[\"Gender\"==\"M\"].loc[:,\"IsCancelled\"].mean())\n",
    "\n",
    "#Exemple found: df.loc[:, ['A', 'B']].groupby('A').count()\n",
    "print (MainData.loc[:, ['IsCancelled', 'Gender']].groupby('Gender').mean())"
   ]
  },
  {
   "cell_type": "code",
   "execution_count": 39,
   "metadata": {},
   "outputs": [
    {
     "data": {
      "image/png": "[encoded data removed]",
      "text/plain": [
       "<matplotlib.figure.Figure at 0x7fe750b23908>"
      ]
     },
     "metadata": {
      "needs_background": "light"
     },
     "output_type": "display_data"
    }
   ],
   "source": [
    "#give the figure size\n",
    "plt.figure(figsize=(12,12))\n",
    "#plotting what needs to be plotted\n",
    "sns.violinplot(MainData['Age'])\n",
    "#title of a the plot\n",
    "plt.title('Age',fontsize = 20)\n",
    "#publishing the plot\n",
    "plt.show()"
   ]
  },
  {
   "cell_type": "code",
   "execution_count": null,
   "metadata": {
    "collapsed": true
   },
   "outputs": [],
   "source": [
    "# Use this, and more code cells, to explore your data. Don't forget to add\n",
    "#   Markdown cells to document your observations and findings.\n",
    "\n",
    "# Is there a relation between cancelation rate and gender ?\n",
    "# Establish average cancellation for men & wowen\n"
   ]
  },
  {
   "cell_type": "markdown",
   "metadata": {},
   "source": [
    "### Research Question 2  (Replace this header name!)"
   ]
  },
  {
   "cell_type": "code",
   "execution_count": 23,
   "metadata": {},
   "outputs": [
    {
     "name": "stdout",
     "output_type": "stream",
     "text": [
      "Cancelation rate related to SMS_received\n",
      "              IsCancelled\n",
      "SMS_received             \n",
      "False            0.167033\n",
      "True             0.275745\n"
     ]
    },
    {
     "data": {
      "text/plain": [
       "<matplotlib.image.AxesImage at 0x7fe7500ce2e8>"
      ]
     },
     "execution_count": 23,
     "metadata": {},
     "output_type": "execute_result"
    },
    {
     "data": {
      "image/png": "[encoded data removed]",
      "text/plain": [
       "<matplotlib.figure.Figure at 0x7fe750f3bb38>"
      ]
     },
     "metadata": {
      "needs_background": "light"
     },
     "output_type": "display_data"
    }
   ],
   "source": [
    "# Continue to explore the data to address your additional research\n",
    "#   questions. Add more headers as needed if you have more questions to\n",
    "#   investigate.\n",
    "# Investigation on correlation about SMS_received & Cancellation rate \n",
    "print ('Cancelation rate related to SMS_received')\n",
    "\n",
    "#Exemple found: df.loc[:, ['A', 'B']].groupby('A').count()\n",
    "print (MainData.loc[:, ['IsCancelled', 'SMS_received']].groupby('SMS_received').mean())\n",
    "\n",
    "# Is there a relation between cancelation rate and SMS_Received ?\n",
    "plt.matshow(MainData.corr())"
   ]
  },
  {
   "cell_type": "code",
   "execution_count": null,
   "metadata": {},
   "outputs": [],
   "source": [
    "# Conclusion\n",
    "# gald to submmit this first project\n",
    "# I've found correlation between \"No-Show\" and the fact that people received SMS"
   ]
  },
  {
   "cell_type": "markdown",
   "metadata": {},
   "source": [
    "<a id='conclusions'></a>\n",
    "## Conclusions\n",
    "\n",
    "> **Tip**: Finally, summarize your findings and the results that have been performed. Make sure that you are clear with regards to the limitations of your exploration. If you haven't done any statistical tests, do not imply any statistical conclusions. And make sure you avoid implying causation from correlation!\n",
    "\n",
    "> **Tip**: Once you are satisfied with your work here, check over your report to make sure that it is satisfies all the areas of the rubric (found on the project submission page at the end of the lesson). You should also probably remove all of the \"Tips\" like this one so that the presentation is as polished as possible.\n",
    "\n",
    "## Submitting your Project \n",
    "\n",
    "> Before you submit your project, you need to create a .html or .pdf version of this notebook in the workspace here. To do that, run the code cell below. If it worked correctly, you should get a return code of 0, and you should see the generated .html file in the workspace directory (click on the orange Jupyter icon in the upper left).\n",
    "\n",
    "> Alternatively, you can download this report as .html via the **File** > **Download as** submenu, and then manually upload it into the workspace directory by clicking on the orange Jupyter icon in the upper left, then using the Upload button.\n",
    "\n",
    "> Once you've done this, you can submit your project by clicking on the \"Submit Project\" button in the lower right here. This will create and submit a zip file with this .ipynb doc and the .html or .pdf version you created. Congratulations!"
   ]
  },
  {
   "cell_type": "code",
   "execution_count": null,
   "metadata": {
    "collapsed": true
   },
   "outputs": [],
   "source": [
    "from subprocess import call\n",
    "call(['python', '-m', 'nbconvert', 'Investigate_a_Dataset.ipynb'])"
   ]
  }
 ],
 "metadata": {
  "kernelspec": {
   "display_name": "Python 3",
   "language": "python",
   "name": "python3"
  },
  "language_info": {
   "codemirror_mode": {
    "name": "ipython",
    "version": 3
   },
   "file_extension": ".py",
   "mimetype": "text/x-python",
   "name": "python",
   "nbconvert_exporter": "python",
   "pygments_lexer": "ipython3",
   "version": "3.6.3"
  }
 },
 "nbformat": 4,
 "nbformat_minor": 2
}
